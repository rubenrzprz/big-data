{
 "cells": [
  {
   "cell_type": "markdown",
   "metadata": {},
   "source": [
    "# Books Dataset"
   ]
  },
  {
   "cell_type": "markdown",
   "metadata": {},
   "source": [
    "## Leer los DF"
   ]
  },
  {
   "cell_type": "markdown",
   "metadata": {},
   "source": [
    "Creamos el SparkSession:"
   ]
  },
  {
   "cell_type": "code",
   "execution_count": 1,
   "metadata": {},
   "outputs": [],
   "source": [
    "from pyspark.sql import SparkSession \n",
    "spark = SparkSession \\\n",
    "    .builder \\\n",
    "    .appName(\"BooksDataset\") \\\n",
    "    .getOrCreate()"
   ]
  },
  {
   "cell_type": "markdown",
   "metadata": {},
   "source": [
    "Definimos una función para obtener los ficheros que contengan un string dentro de un directorio:"
   ]
  },
  {
   "cell_type": "code",
   "execution_count": 105,
   "metadata": {
    "scrolled": false
   },
   "outputs": [],
   "source": [
    "from os import listdir\n",
    "from os.path import isdir, isfile, join\n",
    "def getFiles(dir, match):\n",
    "    files = []\n",
    "    if(isdir(dir)):\n",
    "        for f in listdir(dir):\n",
    "            if isfile(join(dir, f)) and match in f:\n",
    "                files.append(join(dir, f))\n",
    "    return files;"
   ]
  },
  {
   "cell_type": "markdown",
   "metadata": {},
   "source": [
    "Definimos una función para retornar el una columna si existe o None si no existe."
   ]
  },
  {
   "cell_type": "code",
   "execution_count": 55,
   "metadata": {},
   "outputs": [],
   "source": [
    "from pyspark.sql.functions import lit\n",
    "def hasColumn(df, column):\n",
    "    return df(column) if column in df.schema.fieldNames() else lit(None)"
   ]
  },
  {
   "cell_type": "markdown",
   "metadata": {},
   "source": [
    "Obtenemos los ficheros que contengan la palabra \"book\" de nuestro directorio de datasets:"
   ]
  },
  {
   "cell_type": "code",
   "execution_count": null,
   "metadata": {},
   "outputs": [],
   "source": [
    "dataset_folder = '/home/spark/datasets/books'\n",
    "booksFiles = getFiles(dataset_folder, \"book\")\n",
    "print(booksFiles)"
   ]
  },
  {
   "cell_type": "markdown",
   "metadata": {},
   "source": [
    "Leemos cada uno de los ficheros de libros mediante la API de DataFrameReader:"
   ]
  },
  {
   "cell_type": "code",
   "execution_count": 53,
   "metadata": {},
   "outputs": [],
   "source": [
    "booksDFList = list(map(lambda file: (spark\n",
    "     .read\n",
    "     .format(\"csv\")\n",
    "     .option(\"header\", \"true\")\n",
    "     .option(\"quote\", \"\\\"\")\n",
    "     .option(\"escape\", \"\\\"\")\n",
    "     .option(\"ignoreLeadingWhiteSpace\",\"true\")\n",
    "     .option(\"ignoreTrailingWhiteSpace\",\"true\")\n",
    "     .load(file)\n",
    "), booksFiles))"
   ]
  },
  {
   "cell_type": "markdown",
   "metadata": {},
   "source": [
    "Añadimos las columnas \"Description\" y \"Count of text reviews\" si no existen en el DF:"
   ]
  },
  {
   "cell_type": "code",
   "execution_count": 57,
   "metadata": {},
   "outputs": [],
   "source": [
    "booksDFList2 = list(map(lambda df: (\n",
    "    df.withColumn(\"Description\", hasColumn(df, \"Description\")) \\\n",
    "      .withColumn(\"Count of text reviews\", hasColumn(df, \"Count of text reviews\"))\n",
    "), booksDFList))"
   ]
  },
  {
   "cell_type": "markdown",
   "metadata": {},
   "source": [
    "Definimos una función para juntar la lista de DF en un único DF:"
   ]
  },
  {
   "cell_type": "code",
   "execution_count": 119,
   "metadata": {},
   "outputs": [],
   "source": [
    "from functools import reduce\n",
    "def joinDFList(dfList):\n",
    "    return reduce(lambda a, b: a.unionByName(b), dfList)"
   ]
  },
  {
   "cell_type": "markdown",
   "metadata": {},
   "source": [
    "Unimos los DF:"
   ]
  },
  {
   "cell_type": "code",
   "execution_count": 62,
   "metadata": {},
   "outputs": [],
   "source": [
    "unionDF = joinDFList(booksDFList2)"
   ]
  },
  {
   "cell_type": "markdown",
   "metadata": {},
   "source": [
    "Limpiamos el DF:\n",
    "- Casteamos los campos de tipo Integer y Double.\n",
    "- Eliminamos de los campos RatingDist[5, 4, 3, 2, 1, Total] las entradillas de texto (\"5: 123\" -> \"123\")\n",
    "- Intercambiamos las columnas de mes y día, ya que tienen los valores al revés en el DF."
   ]
  },
  {
   "cell_type": "code",
   "execution_count": 144,
   "metadata": {},
   "outputs": [
    {
     "data": {
      "text/plain": [
       "<bound method DataFrame.printSchema of DataFrame[PublishYear: int, Rating: double, RatingDistTotal: int, ISBN: string, RatingDist1: int, Publisher: string, PublishDay: int, Id: int, Name: string, Authors: string, RatingDist5: int, RatingDist4: int, PublishMonth: int, RatingDist2: int, pagesNumber: int, RatingDist3: int, CountsOfReview: int, Language: string, Description: string, CountOfTextReviews: int]>"
      ]
     },
     "execution_count": 144,
     "metadata": {},
     "output_type": "execute_result"
    }
   ],
   "source": [
    "from pyspark.sql.functions import col, regexp_extract\n",
    "from pyspark.sql.types import *\n",
    "df = (unionDF\n",
    "      .withColumn(\"Id\", col(\"Id\").cast(IntegerType()))\n",
    "      .withColumn(\"Rating\", col(\"Rating\").cast(DoubleType()))\n",
    "      .withColumn(\"PublishYear\",col(\"PublishYear\").cast(IntegerType()))\n",
    "      .withColumn(\"PublishMonth\",col(\"PublishMonth\").cast(IntegerType()))\n",
    "      .withColumn(\"PublishDay\", col(\"PublishDay\").cast(IntegerType()))\n",
    "      .withColumn(\"RatingDist5\",regexp_extract(\"RatingDist5\", \"5:(\\d+)\", 1).cast(IntegerType()))\n",
    "      .withColumn(\"RatingDist4\",regexp_extract(\"RatingDist4\", \"4:(\\d+)\", 1).cast(IntegerType()))\n",
    "      .withColumn(\"RatingDist3\",regexp_extract(\"RatingDist3\", \"3:(\\d+)\", 1).cast(IntegerType()))\n",
    "      .withColumn(\"RatingDist2\",regexp_extract(\"RatingDist2\", \"2:(\\d+)\", 1).cast(IntegerType()))\n",
    "      .withColumn(\"RatingDist1\",regexp_extract(\"RatingDist1\", \"1:(\\d+)\", 1).cast(IntegerType()))\n",
    "      .withColumn(\"RatingDistTotal\",regexp_extract(\"RatingDistTotal\", \"total:(\\d+)\", 1).cast(IntegerType()))\n",
    "      .withColumn(\"CountsOfReview\", col(\"CountsOfReview\").cast(IntegerType()))\n",
    "      .withColumn(\"pagesNumber\", col(\"pagesNumber\").cast(IntegerType()))\n",
    "      .withColumn(\"Count of text reviews\", col(\"Count of text reviews\").cast(IntegerType()))\n",
    "      .withColumnRenamed(\"Count of text reviews\", \"CountOfTextReviews\")\n",
    "      .withColumnRenamed(\"PublishMonth\", \"PublishDayFixed\")\n",
    "      .withColumnRenamed(\"PublishDay\", \"PublishMonth\")\n",
    "      .withColumnRenamed(\"PublishDayFixed\", \"PublishDay\")\n",
    ")\n",
    "df.printSchema"
   ]
  },
  {
   "cell_type": "markdown",
   "metadata": {},
   "source": [
    "Guardamos el DF en formato parquet para realizar las consultas:"
   ]
  },
  {
   "cell_type": "code",
   "execution_count": 87,
   "metadata": {},
   "outputs": [],
   "source": [
    "parquet_path = '/home/spark/datasets/parquet'\n",
    "df.write.format(\"parquet\").mode(\"overwrite\").save(parquet_path)"
   ]
  },
  {
   "cell_type": "markdown",
   "metadata": {},
   "source": [
    "Lo leemos como un DF:"
   ]
  },
  {
   "cell_type": "code",
   "execution_count": 88,
   "metadata": {},
   "outputs": [],
   "source": [
    "booksDF = spark.read.format(\"parquet\").load(parquet_path+'/*.parquet')"
   ]
  },
  {
   "cell_type": "markdown",
   "metadata": {},
   "source": [
    "Leemos los ficheros que contienen los rating de los usuarios, del mismo modo que leímos anteriormente los libros:"
   ]
  },
  {
   "cell_type": "code",
   "execution_count": 121,
   "metadata": {},
   "outputs": [],
   "source": [
    "ratingFiles = getFiles(dataset_folder, \"user\")\n",
    "ratingsDF = joinDFList(list(map(lambda file: (spark\n",
    "     .read\n",
    "     .format(\"csv\")\n",
    "     .option(\"header\", \"true\")\n",
    "     .option(\"quote\", \"\\\"\")\n",
    "     .option(\"escape\", \"\\\"\")\n",
    "     .load(file)), ratingFiles)))"
   ]
  },
  {
   "cell_type": "markdown",
   "metadata": {},
   "source": [
    "## Consultas"
   ]
  },
  {
   "cell_type": "markdown",
   "metadata": {},
   "source": [
    "**1. Rating promedio de todos los libros**"
   ]
  },
  {
   "cell_type": "code",
   "execution_count": 94,
   "metadata": {},
   "outputs": [
    {
     "name": "stdout",
     "output_type": "stream",
     "text": [
      "+--------------+\n",
      "|Average rating|\n",
      "+--------------+\n",
      "|       3761.15|\n",
      "+--------------+\n",
      "\n"
     ]
    }
   ],
   "source": [
    "from pyspark.sql.functions import avg, round\n",
    "booksDF.select(round(avg(\"Rating\"), 2).alias(\"Average rating\")).show()"
   ]
  },
  {
   "cell_type": "markdown",
   "metadata": {},
   "source": [
    "**2. Rating promedio de los libros por autor**"
   ]
  },
  {
   "cell_type": "code",
   "execution_count": 107,
   "metadata": {},
   "outputs": [
    {
     "name": "stdout",
     "output_type": "stream",
     "text": [
      "+--------------------+--------------+\n",
      "|             Authors|Average rating|\n",
      "+--------------------+--------------+\n",
      "|    Vera Albuquerque|           4.0|\n",
      "|       Thierry Lentz|          2.78|\n",
      "|       Georges Nania|           0.0|\n",
      "|        Fred Allison|           0.0|\n",
      "|    Frances Bellerby|           3.0|\n",
      "|    Nathaniel Harris|          3.36|\n",
      "|       David   Baird|          3.03|\n",
      "|      Alison Daniels|          1.53|\n",
      "|         Ken England|           3.0|\n",
      "|         Bill Bright|          3.39|\n",
      "|        Mary O'Brien|          2.11|\n",
      "|        John Farndon|          3.17|\n",
      "|   Edgar M. Bronfman|          3.17|\n",
      "|     Louis Althusser|          3.89|\n",
      "|Maria Julia Bertomeu|           0.0|\n",
      "|     Mario Benedetti|          3.95|\n",
      "|  The New York Times|          2.97|\n",
      "|    Albert J. Schütz|          2.64|\n",
      "|      Eloise Jelinek|           0.0|\n",
      "|      Elizabeth Chan|          3.67|\n",
      "+--------------------+--------------+\n",
      "only showing top 20 rows\n",
      "\n"
     ]
    }
   ],
   "source": [
    "booksDF \\\n",
    "    .where(col(\"Rating\").isNotNull()) \\\n",
    "    .groupBy(\"Authors\") \\\n",
    "    .agg(round(avg(\"Rating\"), 2).alias(\"Average rating\")) \\\n",
    ".show()"
   ]
  },
  {
   "cell_type": "markdown",
   "metadata": {},
   "source": [
    "**3. Rating promedio de los libros por Publisher**"
   ]
  },
  {
   "cell_type": "code",
   "execution_count": 108,
   "metadata": {
    "scrolled": false
   },
   "outputs": [
    {
     "name": "stdout",
     "output_type": "stream",
     "text": [
      "+--------------------+--------------+\n",
      "|           Publisher|Average rating|\n",
      "+--------------------+--------------+\n",
      "|           IVP Books|          3.78|\n",
      "|    Ycp Publications|          3.95|\n",
      "|John Benjamins Pu...|          1.53|\n",
      "|                 DAW|          3.74|\n",
      "|Regina Press Malh...|          3.05|\n",
      "| Prospect Books (UK)|          2.94|\n",
      "|            Capstone|          2.64|\n",
      "|        Lorenz Books|           3.0|\n",
      "|       The New Press|          3.77|\n",
      "|     Militzke Verlag|           0.0|\n",
      "|         Cleis Press|          3.78|\n",
      "|Arcadia Publishin...|          3.14|\n",
      "|      Celestial Arts|          3.33|\n",
      "|Chicago Review Press|           3.4|\n",
      "|     Dance Books Ltd|          2.64|\n",
      "|        Chosen Books|          3.78|\n",
      "| Research Press (IL)|          2.28|\n",
      "|Civilized Publica...|          4.15|\n",
      "| Orange Frazer Press|          2.76|\n",
      "|   R.W. Secord Press|          3.67|\n",
      "+--------------------+--------------+\n",
      "only showing top 20 rows\n",
      "\n"
     ]
    }
   ],
   "source": [
    "booksDF \\\n",
    "    .where(col(\"Rating\").isNotNull()) \\\n",
    "    .groupBy(\"Publisher\") \\\n",
    "    .agg(round(avg(\"Rating\"), 2).alias(\"Average rating\")) \\\n",
    ".show()"
   ]
  },
  {
   "cell_type": "markdown",
   "metadata": {},
   "source": [
    "**4. Número promedio de páginas de todos los libros**"
   ]
  },
  {
   "cell_type": "code",
   "execution_count": 109,
   "metadata": {
    "scrolled": true
   },
   "outputs": [
    {
     "name": "stdout",
     "output_type": "stream",
     "text": [
      "+-------------+\n",
      "|Average pages|\n",
      "+-------------+\n",
      "|       534.44|\n",
      "+-------------+\n",
      "\n"
     ]
    }
   ],
   "source": [
    "booksDF.select(round(avg(\"pagesNumber\"), 2).alias(\"Average pages\")).show()"
   ]
  },
  {
   "cell_type": "markdown",
   "metadata": {},
   "source": [
    "**5. Número promedio de páginas de todos los libros por autor**"
   ]
  },
  {
   "cell_type": "code",
   "execution_count": 110,
   "metadata": {},
   "outputs": [
    {
     "name": "stdout",
     "output_type": "stream",
     "text": [
      "+--------------------+-------------+\n",
      "|             Authors|Average pages|\n",
      "+--------------------+-------------+\n",
      "|    Vera Albuquerque|        472.0|\n",
      "|       Thierry Lentz|        332.0|\n",
      "|       Georges Nania|        916.0|\n",
      "|        Fred Allison|        452.0|\n",
      "|    Frances Bellerby|        184.0|\n",
      "|    Nathaniel Harris|       112.89|\n",
      "|       David   Baird|       383.92|\n",
      "|      Alison Daniels|        160.0|\n",
      "|         Ken England|        409.5|\n",
      "|         Bill Bright|       271.41|\n",
      "|        Mary O'Brien|       215.33|\n",
      "|        John Farndon|       138.07|\n",
      "|   Edgar M. Bronfman|        226.5|\n",
      "|     Louis Althusser|       306.33|\n",
      "|Maria Julia Bertomeu|        199.0|\n",
      "|     Mario Benedetti|       239.48|\n",
      "|  The New York Times|       234.08|\n",
      "|    Albert J. Schütz|       306.67|\n",
      "|      Eloise Jelinek|        490.0|\n",
      "|      Elizabeth Chan|         64.0|\n",
      "+--------------------+-------------+\n",
      "only showing top 20 rows\n",
      "\n"
     ]
    }
   ],
   "source": [
    "booksDF \\\n",
    "    .where(col(\"pagesNumber\").isNotNull()) \\\n",
    "    .groupBy(\"Authors\") \\\n",
    "    .agg(round(avg(\"pagesNumber\"), 2).alias(\"Average pages\")) \\\n",
    ".show()"
   ]
  },
  {
   "cell_type": "markdown",
   "metadata": {},
   "source": [
    "**6. Número promedio de páginas de todos los libros por Publisher**"
   ]
  },
  {
   "cell_type": "code",
   "execution_count": 111,
   "metadata": {},
   "outputs": [
    {
     "name": "stdout",
     "output_type": "stream",
     "text": [
      "+--------------------+-------------+\n",
      "|           Publisher|Average pages|\n",
      "+--------------------+-------------+\n",
      "|           IVP Books|       192.85|\n",
      "|    Ycp Publications|        280.0|\n",
      "|John Benjamins Pu...|       325.47|\n",
      "|                 DAW|       355.01|\n",
      "|Regina Press Malh...|        75.28|\n",
      "| Prospect Books (UK)|       281.19|\n",
      "|            Capstone|       154.04|\n",
      "|        Lorenz Books|       203.51|\n",
      "|       The New Press|       290.01|\n",
      "|     Militzke Verlag|        236.0|\n",
      "|         Cleis Press|       222.02|\n",
      "|Arcadia Publishin...|        129.7|\n",
      "|      Celestial Arts|       194.92|\n",
      "|Chicago Review Press|       259.42|\n",
      "|     Dance Books Ltd|        209.0|\n",
      "|        Chosen Books|       219.05|\n",
      "| Research Press (IL)|       255.21|\n",
      "|Civilized Publica...|       200.33|\n",
      "| Orange Frazer Press|       237.64|\n",
      "|   R.W. Secord Press|        471.0|\n",
      "+--------------------+-------------+\n",
      "only showing top 20 rows\n",
      "\n"
     ]
    }
   ],
   "source": [
    "booksDF \\\n",
    "    .where(col(\"pagesNumber\").isNotNull()) \\\n",
    "    .groupBy(\"Publisher\") \\\n",
    "    .agg(round(avg(\"pagesNumber\"), 2).alias(\"Average pages\")) \\\n",
    ".show()"
   ]
  },
  {
   "cell_type": "markdown",
   "metadata": {},
   "source": [
    "**7. Número promedio de libros publicados por autor**"
   ]
  },
  {
   "cell_type": "code",
   "execution_count": 118,
   "metadata": {},
   "outputs": [
    {
     "name": "stdout",
     "output_type": "stream",
     "text": [
      "+----------------------------------+\n",
      "|Average number of books per author|\n",
      "+----------------------------------+\n",
      "|                              2.75|\n",
      "+----------------------------------+\n",
      "\n"
     ]
    }
   ],
   "source": [
    "booksDF \\\n",
    "    .groupBy(\"Authors\") \\\n",
    "    .count() \\\n",
    "    .agg(round(avg(\"count\"), 2).alias(\"Average number of books per author\")) \\\n",
    ".show()"
   ]
  },
  {
   "cell_type": "markdown",
   "metadata": {},
   "source": [
    "**8. Ordenar los libros de mayor a menor (top 15) por número de ratings dados por los usuarios (excluir aquellos valores sin rating)**"
   ]
  },
  {
   "cell_type": "code",
   "execution_count": 139,
   "metadata": {},
   "outputs": [
    {
     "name": "stdout",
     "output_type": "stream",
     "text": [
      "+------------------------------------------------------------+-------+\n",
      "|Name                                                        |Ratings|\n",
      "+------------------------------------------------------------+-------+\n",
      "|The Catcher in the Rye                                      |985    |\n",
      "|The Great Gatsby                                            |885    |\n",
      "|The Da Vinci Code (Robert Langdon, #2)                      |846    |\n",
      "|To Kill a Mockingbird                                       |830    |\n",
      "|1984                                                        |756    |\n",
      "|The Kite Runner                                             |749    |\n",
      "|Harry Potter and the Sorcerer's Stone (Harry Potter, #1)    |728    |\n",
      "|Animal Farm                                                 |717    |\n",
      "|Harry Potter and the Goblet of Fire (Harry Potter, #4)      |639    |\n",
      "|Harry Potter and the Prisoner of Azkaban (Harry Potter, #3) |631    |\n",
      "|Harry Potter and the Order of the Phoenix (Harry Potter, #5)|595    |\n",
      "|Harry Potter and the Half-Blood Prince (Harry Potter, #6)   |593    |\n",
      "|Pride and Prejudice                                         |580    |\n",
      "|Memoirs of a Geisha                                         |574    |\n",
      "|The Alchemist                                               |556    |\n",
      "+------------------------------------------------------------+-------+\n",
      "\n"
     ]
    }
   ],
   "source": [
    "ratingsDF.groupBy(\"Name\") \\\n",
    "    .agg(count(\"Name\").alias(\"Ratings\")) \\\n",
    "    .where(col(\"Name\") != \"Rating\") \\\n",
    "    .orderBy(col(\"Ratings\").desc()) \\\n",
    "    .limit(15) \\\n",
    ".show(truncate=False)"
   ]
  },
  {
   "cell_type": "markdown",
   "metadata": {},
   "source": [
    "**9. Obtener el top 5 de ratings más frecuentes otorgados por usuarios**"
   ]
  },
  {
   "cell_type": "code",
   "execution_count": 142,
   "metadata": {},
   "outputs": [
    {
     "name": "stdout",
     "output_type": "stream",
     "text": [
      "+---------------+------+\n",
      "|         Rating| count|\n",
      "+---------------+------+\n",
      "|really liked it|132808|\n",
      "|       liked it| 96047|\n",
      "| it was amazing| 92354|\n",
      "|      it was ok| 28811|\n",
      "|did not like it|  7811|\n",
      "+---------------+------+\n",
      "\n"
     ]
    }
   ],
   "source": [
    "ratingsDF.groupBy(\"Rating\") \\\n",
    "  .count() \\\n",
    "  .orderBy(col(\"count\").desc()) \\\n",
    "  .limit(5) \\\n",
    ".show()"
   ]
  }
 ],
 "metadata": {
  "kernelspec": {
   "display_name": "Python 3",
   "language": "python",
   "name": "python3"
  },
  "language_info": {
   "codemirror_mode": {
    "name": "ipython",
    "version": 3
   },
   "file_extension": ".py",
   "mimetype": "text/x-python",
   "name": "python",
   "nbconvert_exporter": "python",
   "pygments_lexer": "ipython3",
   "version": "3.7.1"
  }
 },
 "nbformat": 4,
 "nbformat_minor": 2
}
