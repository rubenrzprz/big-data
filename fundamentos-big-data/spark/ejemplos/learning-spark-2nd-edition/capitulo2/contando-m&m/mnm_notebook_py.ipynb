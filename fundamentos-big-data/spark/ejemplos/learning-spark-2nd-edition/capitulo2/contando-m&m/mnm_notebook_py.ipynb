{
 "cells": [
  {
   "cell_type": "markdown",
   "id": "1a87f3f8",
   "metadata": {},
   "source": [
    "# Contando M&Ms en Python"
   ]
  },
  {
   "cell_type": "markdown",
   "id": "aa0c74f0",
   "metadata": {},
   "source": [
    "1. Importamos las librerias necesarias y establecemos el nombre del fichero con los datos"
   ]
  },
  {
   "cell_type": "code",
   "execution_count": 1,
   "id": "0e729ebf",
   "metadata": {
    "scrolled": false
   },
   "outputs": [],
   "source": [
    "from pyspark.sql import SparkSession\n",
    "from pyspark.sql.functions import count, avg, col, max, min, sum\n",
    "\n",
    "mnm_file = \"mnm_dataset.csv\""
   ]
  },
  {
   "cell_type": "markdown",
   "id": "5f1044d7",
   "metadata": {},
   "source": [
    "2. Construimos el SparkSession, si no existe se crea una instancia"
   ]
  },
  {
   "cell_type": "code",
   "execution_count": 2,
   "id": "ee0f1a92",
   "metadata": {},
   "outputs": [],
   "source": [
    "spark = (SparkSession\n",
    "    .builder\n",
    "    .appName(\"PythonMnMCount\")\n",
    "    .getOrCreate())"
   ]
  },
  {
   "cell_type": "markdown",
   "id": "c7b24bbd",
   "metadata": {},
   "source": [
    "3. Leemos el fichero csv y lo convertimos a un Spark Data Frame. Para ello, le inferimos el esquema desde el fichero y especificamos que el archivo tiene un header con los nombres de las columnas."
   ]
  },
  {
   "cell_type": "code",
   "execution_count": 3,
   "id": "db0dd948",
   "metadata": {},
   "outputs": [
    {
     "data": {
      "text/plain": [
       "DataFrame[State: string, Color: string, Count: int]"
      ]
     },
     "execution_count": 3,
     "metadata": {},
     "output_type": "execute_result"
    }
   ],
   "source": [
    "mnm_df = (spark.read.format(\"csv\")\n",
    "    .option(\"header\", \"true\")\n",
    "    .option(\"inferSchema\", \"true\")\n",
    "    .load(mnm_file))\n",
    "mnm_df.persist()"
   ]
  },
  {
   "cell_type": "markdown",
   "id": "e04486f1",
   "metadata": {},
   "source": [
    "4. Usamos la API de DataFrames:\n",
    "    - Selecionamos los campos \"State\", \"Color\" y \"Count\"\n",
    "    - Agrupamos por \"State\" y por \"Color\"\n",
    "    - Agregamos los \"Count\" de cada grupo en una columna \"Total\"\n",
    "    - Ordenamos por el \"Total\" en orden descendente"
   ]
  },
  {
   "cell_type": "code",
   "execution_count": 4,
   "id": "7d1fba6c",
   "metadata": {},
   "outputs": [
    {
     "name": "stdout",
     "output_type": "stream",
     "text": [
      "+-----+------+-----+\n",
      "|State|Color |Total|\n",
      "+-----+------+-----+\n",
      "|CA   |Yellow|1807 |\n",
      "|WA   |Green |1779 |\n",
      "|OR   |Orange|1743 |\n",
      "|TX   |Green |1737 |\n",
      "|TX   |Red   |1725 |\n",
      "|CA   |Green |1723 |\n",
      "|CO   |Yellow|1721 |\n",
      "|CA   |Brown |1718 |\n",
      "|CO   |Green |1713 |\n",
      "|NV   |Orange|1712 |\n",
      "|TX   |Yellow|1703 |\n",
      "|NV   |Green |1698 |\n",
      "|AZ   |Brown |1698 |\n",
      "|WY   |Green |1695 |\n",
      "|CO   |Blue  |1695 |\n",
      "|NM   |Red   |1690 |\n",
      "|AZ   |Orange|1689 |\n",
      "|NM   |Yellow|1688 |\n",
      "|NM   |Brown |1687 |\n",
      "|UT   |Orange|1684 |\n",
      "|NM   |Green |1682 |\n",
      "|UT   |Red   |1680 |\n",
      "|AZ   |Green |1676 |\n",
      "|NV   |Yellow|1675 |\n",
      "|NV   |Blue  |1673 |\n",
      "|WA   |Red   |1671 |\n",
      "|WY   |Red   |1670 |\n",
      "|WA   |Brown |1669 |\n",
      "|NM   |Orange|1665 |\n",
      "|WY   |Blue  |1664 |\n",
      "|WA   |Yellow|1663 |\n",
      "|WA   |Orange|1658 |\n",
      "|CA   |Orange|1657 |\n",
      "|NV   |Brown |1657 |\n",
      "|CO   |Brown |1656 |\n",
      "|CA   |Red   |1656 |\n",
      "|UT   |Blue  |1655 |\n",
      "|AZ   |Yellow|1654 |\n",
      "|TX   |Orange|1652 |\n",
      "|AZ   |Red   |1648 |\n",
      "|OR   |Blue  |1646 |\n",
      "|UT   |Yellow|1645 |\n",
      "|OR   |Red   |1645 |\n",
      "|CO   |Orange|1642 |\n",
      "|TX   |Brown |1641 |\n",
      "|NM   |Blue  |1638 |\n",
      "|AZ   |Blue  |1636 |\n",
      "|OR   |Green |1634 |\n",
      "|UT   |Brown |1631 |\n",
      "|WY   |Yellow|1626 |\n",
      "|WA   |Blue  |1625 |\n",
      "|CO   |Red   |1624 |\n",
      "|OR   |Brown |1621 |\n",
      "|TX   |Blue  |1614 |\n",
      "|OR   |Yellow|1614 |\n",
      "|NV   |Red   |1610 |\n",
      "|CA   |Blue  |1603 |\n",
      "|WY   |Orange|1595 |\n",
      "|UT   |Green |1591 |\n",
      "|WY   |Brown |1532 |\n",
      "+-----+------+-----+\n",
      "\n"
     ]
    }
   ],
   "source": [
    "count_mnm_df = (mnm_df\n",
    "    .select(\"State\", \"Color\", \"Count\")\n",
    "    .groupBy(\"State\", \"Color\")\n",
    "    .agg(count(\"Count\").alias(\"Total\"))\n",
    "    .orderBy(\"Total\", ascending=False))\n",
    "count_mnm_df.show(n=60, truncate=False)"
   ]
  },
  {
   "cell_type": "markdown",
   "id": "33b6a49d",
   "metadata": {},
   "source": [
    "- Ejemplo usando *avg*, calculamos la media de cada color entre todos los estados:"
   ]
  },
  {
   "cell_type": "code",
   "execution_count": 5,
   "id": "2a2fda6c",
   "metadata": {},
   "outputs": [
    {
     "name": "stdout",
     "output_type": "stream",
     "text": [
      "+------+-------+\n",
      "| Color|Average|\n",
      "+------+-------+\n",
      "|  Blue| 1644.9|\n",
      "| Brown| 1651.0|\n",
      "|   Red| 1661.9|\n",
      "|Orange| 1669.7|\n",
      "|Yellow| 1679.6|\n",
      "| Green| 1692.8|\n",
      "+------+-------+\n",
      "\n"
     ]
    }
   ],
   "source": [
    "avg_mnm_color_df = (mnm_df\n",
    "    .select(\"State\", \"Color\", \"Count\")\n",
    "    .groupBy(\"State\", \"Color\")\n",
    "    .agg(count(\"Count\").alias(\"Total\"))\n",
    "    .groupBy(\"Color\")\n",
    "    .agg(avg(\"Total\").alias(\"Average\"))\n",
    "    .orderBy(\"Average\", ascending=True)\n",
    ")\n",
    "avg_mnm_color_df.show()"
   ]
  },
  {
   "cell_type": "markdown",
   "id": "e44dcb2e",
   "metadata": {},
   "source": [
    "- Ejemplo usando la cláusula *where*, filtramos los estados que empiezan por vocal:"
   ]
  },
  {
   "cell_type": "code",
   "execution_count": 6,
   "id": "13a789e2",
   "metadata": {},
   "outputs": [
    {
     "name": "stdout",
     "output_type": "stream",
     "text": [
      "+-----+\n",
      "|State|\n",
      "+-----+\n",
      "|   AZ|\n",
      "|   OR|\n",
      "|   UT|\n",
      "+-----+\n",
      "\n"
     ]
    }
   ],
   "source": [
    "vowel_states_df = (mnm_df\n",
    "    .select(\"State\")\n",
    "    .distinct()\n",
    "    .where(col(\"State\").rlike(\"^[AEIOU]\"))\n",
    ")\n",
    "vowel_states_df.show()"
   ]
  },
  {
   "cell_type": "markdown",
   "id": "ec4be3db",
   "metadata": {},
   "source": [
    "- Ejemplo usando varias funciones de agregación. Se calcula el mínimo, máximo y media de votos de cada color entre todos los estados y la suma total de votos de cada color."
   ]
  },
  {
   "cell_type": "code",
   "execution_count": 7,
   "id": "f3e233bb",
   "metadata": {
    "scrolled": true
   },
   "outputs": [
    {
     "name": "stdout",
     "output_type": "stream",
     "text": [
      "+------+---------+---------+-------------+------------+\n",
      "| Color|Min votes|Max votes|Average votes|Sum of votes|\n",
      "+------+---------+---------+-------------+------------+\n",
      "|Orange|     1595|     1743|       1669.7|       16697|\n",
      "| Green|     1591|     1779|       1692.8|       16928|\n",
      "|  Blue|     1603|     1695|       1644.9|       16449|\n",
      "| Brown|     1532|     1718|       1651.0|       16510|\n",
      "|Yellow|     1614|     1807|       1679.6|       16796|\n",
      "|   Red|     1610|     1725|       1661.9|       16619|\n",
      "+------+---------+---------+-------------+------------+\n",
      "\n"
     ]
    }
   ],
   "source": [
    "stats_mnm_color_df = (mnm_df\n",
    "    .select(\"State\", \"Color\", \"Count\")\n",
    "    .groupBy(\"Color\", \"State\")\n",
    "    .agg(count(\"Count\").alias(\"Total\"))\n",
    "    .groupBy(\"Color\")\n",
    "    .agg(min(\"Total\").alias(\"Min votes\"), max(\"Total\").alias(\"Max votes\"), avg(\"Total\").alias(\"Average votes\"), sum(\"Total\").alias(\"Sum of votes\"))\n",
    ")\n",
    "stats_mnm_color_df.show()"
   ]
  },
  {
   "cell_type": "markdown",
   "id": "b654f223",
   "metadata": {},
   "source": [
    "- También podemos guardar nuestros dataframes como una vista temporal de SQL:"
   ]
  },
  {
   "cell_type": "code",
   "execution_count": 8,
   "id": "da5b8d6f",
   "metadata": {},
   "outputs": [
    {
     "name": "stdout",
     "output_type": "stream",
     "text": [
      "+------+---------+---------+-------------+------------+\n",
      "| Color|Min votes|Max votes|Average votes|Sum of votes|\n",
      "+------+---------+---------+-------------+------------+\n",
      "|Orange|     1595|     1743|       1669.7|       16697|\n",
      "| Green|     1591|     1779|       1692.8|       16928|\n",
      "|  Blue|     1603|     1695|       1644.9|       16449|\n",
      "| Brown|     1532|     1718|       1651.0|       16510|\n",
      "|Yellow|     1614|     1807|       1679.6|       16796|\n",
      "|   Red|     1610|     1725|       1661.9|       16619|\n",
      "+------+---------+---------+-------------+------------+\n",
      "\n"
     ]
    }
   ],
   "source": [
    "stats_mnm_color_df.createOrReplaceTempView(\"stats_color\")\n",
    "spark.table(\"stats_color\").show()"
   ]
  },
  {
   "cell_type": "markdown",
   "id": "54e3cd8e",
   "metadata": {},
   "source": [
    "5. Detenemos el SparkSession"
   ]
  },
  {
   "cell_type": "code",
   "execution_count": 9,
   "id": "5c32d6da",
   "metadata": {},
   "outputs": [],
   "source": [
    "spark.stop()"
   ]
  }
 ],
 "metadata": {
  "kernelspec": {
   "display_name": "Python 3 (ipykernel)",
   "language": "python",
   "name": "python3"
  },
  "language_info": {
   "codemirror_mode": {
    "name": "ipython",
    "version": 3
   },
   "file_extension": ".py",
   "mimetype": "text/x-python",
   "name": "python",
   "nbconvert_exporter": "python",
   "pygments_lexer": "ipython3",
   "version": "3.9.7"
  }
 },
 "nbformat": 4,
 "nbformat_minor": 5
}
