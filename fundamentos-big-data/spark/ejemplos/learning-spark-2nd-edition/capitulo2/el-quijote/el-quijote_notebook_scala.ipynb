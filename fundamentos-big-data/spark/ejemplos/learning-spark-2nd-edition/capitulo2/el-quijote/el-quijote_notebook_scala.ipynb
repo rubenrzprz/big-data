{
 "cells": [
  {
   "cell_type": "markdown",
   "id": "9ed7194a",
   "metadata": {},
   "source": [
    "# El Quijote en Scala\n",
    "\n",
    "En este ejercicio, leeremos un fichero.txt con la novela del Quijote, extraeremos información de ella (número de líneas) y probaremos las distintas sobrecargas del método `show`, así como otros métodos similares (`head, take, first`)\n",
    "\n",
    "Empezamos, como siempre, importando las librerías necesarias y construyendo el SparkSession. Además, especificamos la ruta del fichero .txt."
   ]
  },
  {
   "cell_type": "code",
   "execution_count": 12,
   "id": "605e18d1",
   "metadata": {},
   "outputs": [
    {
     "data": {
      "text/plain": [
       "import org.apache.spark.sql.SparkSession\r\n",
       "spark: org.apache.spark.sql.SparkSession = org.apache.spark.sql.SparkSession@7ccc2fda\r\n",
       "quijoteFile: String = el_quijote.txt\r\n"
      ]
     },
     "execution_count": 12,
     "metadata": {},
     "output_type": "execute_result"
    }
   ],
   "source": [
    "import org.apache.spark.sql.SparkSession\n",
    "\n",
    "val spark = SparkSession\n",
    "            .builder\n",
    "            .appName(\"QuijoteCount\")\n",
    "            .getOrCreate()\n",
    "\n",
    "val quijoteFile = \"el_quijote.txt\""
   ]
  },
  {
   "cell_type": "markdown",
   "id": "19ffeb23",
   "metadata": {},
   "source": [
    "Leemos el fichero de texto como un Dataset y lo persistimos en memoria, ya que ejecutaremos todas las acciones sobre él."
   ]
  },
  {
   "cell_type": "code",
   "execution_count": 2,
   "id": "8f7a51a0",
   "metadata": {
    "scrolled": true
   },
   "outputs": [
    {
     "data": {
      "text/plain": [
       "quijoteDs: org.apache.spark.sql.Dataset[org.apache.spark.sql.Row] = [value: string]\r\n"
      ]
     },
     "execution_count": 2,
     "metadata": {},
     "output_type": "execute_result"
    }
   ],
   "source": [
    "val quijoteDs = spark.read.text(quijoteFile)\n",
    "quijoteDs.persist()"
   ]
  },
  {
   "cell_type": "markdown",
   "id": "37a6f8aa",
   "metadata": {},
   "source": [
    "## Mostrar los datos\n",
    "### count()\n",
    "Cuenta el número de filas del Dataset."
   ]
  },
  {
   "cell_type": "code",
   "execution_count": 3,
   "id": "5bb3a61a",
   "metadata": {
    "scrolled": true
   },
   "outputs": [
    {
     "data": {
      "text/plain": [
       "res0: Long = 2186\r\n"
      ]
     },
     "execution_count": 3,
     "metadata": {},
     "output_type": "execute_result"
    }
   ],
   "source": [
    "quijoteDs.count()"
   ]
  },
  {
   "cell_type": "markdown",
   "id": "9b8e6632",
   "metadata": {},
   "source": [
    "### show()\n",
    "Muestra las 20 primeras filas del Dataset. Trunca las filas a 20 caracteres como máximo."
   ]
  },
  {
   "cell_type": "code",
   "execution_count": 4,
   "id": "8cbd779f",
   "metadata": {
    "scrolled": true
   },
   "outputs": [
    {
     "name": "stdout",
     "output_type": "stream",
     "text": [
      "+--------------------+\n",
      "|               value|\n",
      "+--------------------+\n",
      "|DON QUIJOTE DE LA...|\n",
      "|Miguel de Cervant...|\n",
      "|                    |\n",
      "|       PRIMERA PARTE|\n",
      "|CAPI?TULO 1: Que ...|\n",
      "|En un lugar de la...|\n",
      "|Tuvo muchas veces...|\n",
      "|En resolucio?n, e...|\n",
      "|historia ma?s cie...|\n",
      "|Deci?a e?l, que e...|\n",
      "|En efecto, remata...|\n",
      "|Imagina?base el p...|\n",
      "|linaje y patria, ...|\n",
      "|Limpias, pues, su...|\n",
      "|Capi?tulo 2: Que ...|\n",
      "|Hechas, pues, est...|\n",
      "|Estos pensamiento...|\n",
      "|Con estos iba ens...|\n",
      "|Autores hay que d...|\n",
      "|muertos de hambre...|\n",
      "+--------------------+\n",
      "only showing top 20 rows\n",
      "\n"
     ]
    }
   ],
   "source": [
    "quijoteDs.show()"
   ]
  },
  {
   "cell_type": "markdown",
   "id": "3f96bbf4",
   "metadata": {},
   "source": [
    "### show(int n)\n",
    "Mostramos las *n* primeras filas del Dataset truncadas a 20 caracteres por fila."
   ]
  },
  {
   "cell_type": "code",
   "execution_count": 5,
   "id": "5e6bc8f6",
   "metadata": {},
   "outputs": [
    {
     "name": "stdout",
     "output_type": "stream",
     "text": [
      "+--------------------+\n",
      "|               value|\n",
      "+--------------------+\n",
      "|DON QUIJOTE DE LA...|\n",
      "|Miguel de Cervant...|\n",
      "|                    |\n",
      "|       PRIMERA PARTE|\n",
      "|CAPI?TULO 1: Que ...|\n",
      "+--------------------+\n",
      "only showing top 5 rows\n",
      "\n"
     ]
    }
   ],
   "source": [
    "quijoteDs.show(5)"
   ]
  },
  {
   "cell_type": "markdown",
   "id": "88ad4c1a",
   "metadata": {},
   "source": [
    "### show(int n, boolean truncate)\n",
    "Muestra las *n* primeras filas del Dataset. Además, si se le asigna el valor false a *truncate*, las muestra sin truncar."
   ]
  },
  {
   "cell_type": "code",
   "execution_count": 6,
   "id": "4ee77de9",
   "metadata": {
    "scrolled": true
   },
   "outputs": [
    {
     "name": "stdout",
     "output_type": "stream",
     "text": [
      "+----------------------------------------------------------------------------------------------+\n",
      "|value                                                                                         |\n",
      "+----------------------------------------------------------------------------------------------+\n",
      "|DON QUIJOTE DE LA MANCHA                                                                      |\n",
      "|Miguel de Cervantes Saavedra                                                                  |\n",
      "|                                                                                              |\n",
      "|PRIMERA PARTE                                                                                 |\n",
      "|CAPI?TULO 1: Que trata de la condicio?n y ejercicio del famoso hidalgo D. Quijote de la Mancha|\n",
      "+----------------------------------------------------------------------------------------------+\n",
      "only showing top 5 rows\n",
      "\n"
     ]
    }
   ],
   "source": [
    "quijoteDs.show(5, false)"
   ]
  },
  {
   "cell_type": "markdown",
   "id": "9a54b2a5",
   "metadata": {},
   "source": [
    "> **Nota:** El método show() también se puede ejecutar usando solo el parámetro *truncate*, pero como las líneas de este archivo son muy grandes, el kernel se queda congelado y no ejecuta más comandos."
   ]
  },
  {
   "cell_type": "markdown",
   "id": "5ed2d864",
   "metadata": {},
   "source": [
    "### head()\n",
    "Devuelve la primera fila del Dataset como una instancia de spark.sql.Row."
   ]
  },
  {
   "cell_type": "code",
   "execution_count": 7,
   "id": "04001f64",
   "metadata": {
    "scrolled": true
   },
   "outputs": [
    {
     "data": {
      "text/plain": [
       "res4: org.apache.spark.sql.Row = [DON QUIJOTE DE LA MANCHA]\r\n"
      ]
     },
     "execution_count": 7,
     "metadata": {},
     "output_type": "execute_result"
    }
   ],
   "source": [
    "quijoteDs.head()"
   ]
  },
  {
   "cell_type": "markdown",
   "id": "348c24e9",
   "metadata": {},
   "source": [
    "### head(int n)\n",
    "Devuelve un Array de spark.sql.Row con las *n* primeras filas del Dataset."
   ]
  },
  {
   "cell_type": "code",
   "execution_count": 8,
   "id": "2dec2a8d",
   "metadata": {},
   "outputs": [
    {
     "data": {
      "text/plain": [
       "res5: Array[org.apache.spark.sql.Row] = Array([DON QUIJOTE DE LA MANCHA], [Miguel de Cervantes Saavedra], [], [PRIMERA PARTE], [CAPI?TULO 1: Que trata de la condicio?n y ejercicio del famoso hidalgo D. Quijote de la Mancha])\r\n"
      ]
     },
     "execution_count": 8,
     "metadata": {},
     "output_type": "execute_result"
    }
   ],
   "source": [
    "quijoteDs.head(5)"
   ]
  },
  {
   "cell_type": "markdown",
   "id": "a319e4d5",
   "metadata": {},
   "source": [
    "### take(int n)\n",
    "Devuelve un Array de spark.sql.Row con las primeras *n* filas del Dataset."
   ]
  },
  {
   "cell_type": "code",
   "execution_count": 9,
   "id": "44736610",
   "metadata": {},
   "outputs": [
    {
     "data": {
      "text/plain": [
       "res6: Array[org.apache.spark.sql.Row] = Array([DON QUIJOTE DE LA MANCHA], [Miguel de Cervantes Saavedra], [], [PRIMERA PARTE], [CAPI?TULO 1: Que trata de la condicio?n y ejercicio del famoso hidalgo D. Quijote de la Mancha])\r\n"
      ]
     },
     "execution_count": 9,
     "metadata": {},
     "output_type": "execute_result"
    }
   ],
   "source": [
    "quijoteDs.take(5)"
   ]
  },
  {
   "cell_type": "markdown",
   "id": "2b36973d",
   "metadata": {},
   "source": [
    "### first()\n",
    "Devuelve una instancia de spark.sql.Row con la primera fila del Dataset."
   ]
  },
  {
   "cell_type": "code",
   "execution_count": 10,
   "id": "5d2b8abc",
   "metadata": {},
   "outputs": [
    {
     "data": {
      "text/plain": [
       "res7: org.apache.spark.sql.Row = [DON QUIJOTE DE LA MANCHA]\r\n"
      ]
     },
     "execution_count": 10,
     "metadata": {},
     "output_type": "execute_result"
    }
   ],
   "source": [
    "quijoteDs.first()"
   ]
  },
  {
   "cell_type": "markdown",
   "id": "d6818877",
   "metadata": {},
   "source": [
    "#### Diferencias entre head(), take() y first()\n",
    "\n",
    "Los tres métodos recogen las filas del principio del DataFrame y las devuelven en forma de Row. Sin embargo, presentan las siguientes diferencias:\n",
    "- **first()**: devuelve la primera fila del DF. No hay que especificarle parámetros.\n",
    "- **take(int n)**: siempre hay que especificarle el número de filas a tomar, no tiene valor por defecto. Además, mueve los datos al proceso del driver, por lo que puede generar *crasheos* si se especifica un valor de *n* muy alto.\n",
    "- **head(int n = 1)**: puede especificarse el número de filas a tomar, si no, toma solo la primera (equivalente a *first()*). Al igual que *take()*, mueve los datos al driver, por lo que no se debe usar para valores de *n* muy altos.\n",
    "\n",
    "En resumen, *head()* sin parámetro actúa como *first()*, y si se le especifica el número de filas, actúa como *take()*."
   ]
  },
  {
   "cell_type": "markdown",
   "id": "dfcf870c",
   "metadata": {},
   "source": [
    "---\n",
    "Para finalizar, cerramos la SparkSession."
   ]
  },
  {
   "cell_type": "code",
   "execution_count": 11,
   "id": "2c1db222",
   "metadata": {},
   "outputs": [],
   "source": [
    "spark.stop()"
   ]
  }
 ],
 "metadata": {
  "kernelspec": {
   "display_name": "spylon-kernel",
   "language": "scala",
   "name": "spylon-kernel"
  },
  "language_info": {
   "codemirror_mode": "text/x-scala",
   "file_extension": ".scala",
   "help_links": [
    {
     "text": "MetaKernel Magics",
     "url": "https://metakernel.readthedocs.io/en/latest/source/README.html"
    }
   ],
   "mimetype": "text/x-scala",
   "name": "scala",
   "pygments_lexer": "scala",
   "version": "0.4.1"
  }
 },
 "nbformat": 4,
 "nbformat_minor": 5
}
