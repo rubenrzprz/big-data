{
 "cells": [
  {
   "cell_type": "markdown",
   "metadata": {},
   "source": [
    "# Spark Streaming con Dstreams\n",
    "## Ejercicio 3\n",
    "> Contar palabras usando ventanas y un directorio de checkpoints.\n",
    "\n",
    "- Creamos una carpeta en el directorio desde donde lanzamos los notebooks llamada *checkpointDirectory*.\n",
    "\n",
    "- Comenzamos creando StreamingContext a partir del SparkContext, para ello, definimos una función:"
   ]
  },
  {
   "cell_type": "code",
   "execution_count": 1,
   "metadata": {},
   "outputs": [],
   "source": [
    "from pyspark import SparkContext\n",
    "from pyspark.streaming import StreamingContext\n",
    "checkpointDir = './checkpointDirectory'"
   ]
  },
  {
   "cell_type": "code",
   "execution_count": 2,
   "metadata": {},
   "outputs": [],
   "source": [
    "def createContext():\n",
    "    sc = SparkContext(\"local[2]\", \"WordCount\")\n",
    "    ssc = StreamingContext(sc, 5)\n",
    "    ssc.checkpoint(checkpointDir)\n",
    "    return ssc"
   ]
  },
  {
   "cell_type": "code",
   "execution_count": 3,
   "metadata": {},
   "outputs": [],
   "source": [
    "ssc = StreamingContext.getOrCreate(checkpointPath = checkpointDir, setupFunc = createContext)"
   ]
  },
  {
   "cell_type": "markdown",
   "metadata": {},
   "source": [
    "- Leemos las líneas y las separamos en palabras como en los ejercicios anteriores:"
   ]
  },
  {
   "cell_type": "code",
   "execution_count": 4,
   "metadata": {},
   "outputs": [],
   "source": [
    "lines = ssc.socketTextStream(\"localhost\", 9999)\n",
    "words =lines.flatMap(lambda line:line.split(\" \"))"
   ]
  },
  {
   "cell_type": "markdown",
   "metadata": {},
   "source": [
    "- Creamos un par para cada palabra:"
   ]
  },
  {
   "cell_type": "code",
   "execution_count": 5,
   "metadata": {},
   "outputs": [],
   "source": [
    "pairs = words.map(lambda word:(word, 1))"
   ]
  },
  {
   "cell_type": "markdown",
   "metadata": {},
   "source": [
    "- Reducimos los datos por clave y por una ventana de 30 segundos con desplazamiento de 10 segundos:"
   ]
  },
  {
   "cell_type": "code",
   "execution_count": 6,
   "metadata": {},
   "outputs": [],
   "source": [
    "windowedWordCounts = pairs.reduceByKeyAndWindow(lambda x,y: x+y, lambda x,y: x-y, 30, 10)"
   ]
  },
  {
   "cell_type": "markdown",
   "metadata": {},
   "source": [
    "- Mostramos los elementos por consola:"
   ]
  },
  {
   "cell_type": "code",
   "execution_count": null,
   "metadata": {},
   "outputs": [],
   "source": [
    "windowedWordCounts.pprint()\n",
    "\n",
    "ssc.start()\n",
    "ssc.awaitTermination(60)"
   ]
  }
 ],
 "metadata": {
  "kernelspec": {
   "display_name": "Python 3",
   "language": "python",
   "name": "python3"
  },
  "language_info": {
   "codemirror_mode": {
    "name": "ipython",
    "version": 3
   },
   "file_extension": ".py",
   "mimetype": "text/x-python",
   "name": "python",
   "nbconvert_exporter": "python",
   "pygments_lexer": "ipython3",
   "version": "3.7.1"
  }
 },
 "nbformat": 4,
 "nbformat_minor": 2
}
